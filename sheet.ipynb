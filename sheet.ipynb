{
 "cells": [
  {
   "cell_type": "code",
   "execution_count": 270,
   "id": "8c113fda",
   "metadata": {},
   "outputs": [],
   "source": [
    "import numpy as np\n",
    "import matplotlib.pyplot as plt\n",
    "import pandas as pd\n",
    "import seaborn as sns\n",
    "import nltk\n",
    "import re\n",
    "import warnings\n",
    "warnings.filterwarnings(\"ignore\")"
   ]
  },
  {
   "cell_type": "code",
   "execution_count": 271,
   "id": "45c0e295",
   "metadata": {},
   "outputs": [
    {
     "data": {
      "text/html": [
       "<div>\n",
       "<style scoped>\n",
       "    .dataframe tbody tr th:only-of-type {\n",
       "        vertical-align: middle;\n",
       "    }\n",
       "\n",
       "    .dataframe tbody tr th {\n",
       "        vertical-align: top;\n",
       "    }\n",
       "\n",
       "    .dataframe thead th {\n",
       "        text-align: right;\n",
       "    }\n",
       "</style>\n",
       "<table border=\"1\" class=\"dataframe\">\n",
       "  <thead>\n",
       "    <tr style=\"text-align: right;\">\n",
       "      <th></th>\n",
       "      <th>response_id</th>\n",
       "      <th>class</th>\n",
       "      <th>response_text</th>\n",
       "      <th>Unnamed: 3</th>\n",
       "      <th>Unnamed: 4</th>\n",
       "      <th>Unnamed: 5</th>\n",
       "      <th>Unnamed: 6</th>\n",
       "      <th>Unnamed: 7</th>\n",
       "    </tr>\n",
       "  </thead>\n",
       "  <tbody>\n",
       "    <tr>\n",
       "      <th>0</th>\n",
       "      <td>response_1</td>\n",
       "      <td>not_flagged</td>\n",
       "      <td>I try and avoid this sort of conflict</td>\n",
       "      <td>NaN</td>\n",
       "      <td>NaN</td>\n",
       "      <td>NaN</td>\n",
       "      <td>NaN</td>\n",
       "      <td>NaN</td>\n",
       "    </tr>\n",
       "    <tr>\n",
       "      <th>1</th>\n",
       "      <td>response_2</td>\n",
       "      <td>flagged</td>\n",
       "      <td>Had a friend open up to me about his mental ad...</td>\n",
       "      <td>NaN</td>\n",
       "      <td>NaN</td>\n",
       "      <td>NaN</td>\n",
       "      <td>NaN</td>\n",
       "      <td>NaN</td>\n",
       "    </tr>\n",
       "    <tr>\n",
       "      <th>2</th>\n",
       "      <td>response_3</td>\n",
       "      <td>flagged</td>\n",
       "      <td>I saved a girl from suicide once. She was goin...</td>\n",
       "      <td>NaN</td>\n",
       "      <td>NaN</td>\n",
       "      <td>NaN</td>\n",
       "      <td>NaN</td>\n",
       "      <td>NaN</td>\n",
       "    </tr>\n",
       "    <tr>\n",
       "      <th>3</th>\n",
       "      <td>response_4</td>\n",
       "      <td>not_flagged</td>\n",
       "      <td>i cant think of one really...i think i may hav...</td>\n",
       "      <td>NaN</td>\n",
       "      <td>NaN</td>\n",
       "      <td>NaN</td>\n",
       "      <td>NaN</td>\n",
       "      <td>NaN</td>\n",
       "    </tr>\n",
       "    <tr>\n",
       "      <th>4</th>\n",
       "      <td>response_5</td>\n",
       "      <td>not_flagged</td>\n",
       "      <td>Only really one friend who doesn't fit into th...</td>\n",
       "      <td></td>\n",
       "      <td>NaN</td>\n",
       "      <td>NaN</td>\n",
       "      <td>NaN</td>\n",
       "      <td>NaN</td>\n",
       "    </tr>\n",
       "    <tr>\n",
       "      <th>...</th>\n",
       "      <td>...</td>\n",
       "      <td>...</td>\n",
       "      <td>...</td>\n",
       "      <td>...</td>\n",
       "      <td>...</td>\n",
       "      <td>...</td>\n",
       "      <td>...</td>\n",
       "      <td>...</td>\n",
       "    </tr>\n",
       "    <tr>\n",
       "      <th>85</th>\n",
       "      <td>response_86</td>\n",
       "      <td>flagged</td>\n",
       "      <td>I feel like a burden to everyone around me.</td>\n",
       "      <td>NaN</td>\n",
       "      <td>NaN</td>\n",
       "      <td>NaN</td>\n",
       "      <td>NaN</td>\n",
       "      <td>NaN</td>\n",
       "    </tr>\n",
       "    <tr>\n",
       "      <th>86</th>\n",
       "      <td>response_87</td>\n",
       "      <td>flagged</td>\n",
       "      <td>Ive had thoughts of hurting myself</td>\n",
       "      <td>NaN</td>\n",
       "      <td>NaN</td>\n",
       "      <td>NaN</td>\n",
       "      <td>NaN</td>\n",
       "      <td>NaN</td>\n",
       "    </tr>\n",
       "    <tr>\n",
       "      <th>87</th>\n",
       "      <td>response_88</td>\n",
       "      <td>flagged</td>\n",
       "      <td>Struggling with constant anxiety and fear.</td>\n",
       "      <td>NaN</td>\n",
       "      <td>NaN</td>\n",
       "      <td>NaN</td>\n",
       "      <td>NaN</td>\n",
       "      <td>NaN</td>\n",
       "    </tr>\n",
       "    <tr>\n",
       "      <th>88</th>\n",
       "      <td>response_89</td>\n",
       "      <td>flagged</td>\n",
       "      <td>Life feels heavy, and Im not coping well.</td>\n",
       "      <td>NaN</td>\n",
       "      <td>NaN</td>\n",
       "      <td>NaN</td>\n",
       "      <td>NaN</td>\n",
       "      <td>NaN</td>\n",
       "    </tr>\n",
       "    <tr>\n",
       "      <th>89</th>\n",
       "      <td>response_90</td>\n",
       "      <td>flagged</td>\n",
       "      <td>I dont want to be here anymore.</td>\n",
       "      <td>NaN</td>\n",
       "      <td>NaN</td>\n",
       "      <td>NaN</td>\n",
       "      <td>NaN</td>\n",
       "      <td>NaN</td>\n",
       "    </tr>\n",
       "  </tbody>\n",
       "</table>\n",
       "<p>90 rows × 8 columns</p>\n",
       "</div>"
      ],
      "text/plain": [
       "    response_id        class  \\\n",
       "0    response_1  not_flagged   \n",
       "1    response_2      flagged   \n",
       "2    response_3      flagged   \n",
       "3    response_4  not_flagged   \n",
       "4    response_5  not_flagged   \n",
       "..          ...          ...   \n",
       "85  response_86      flagged   \n",
       "86  response_87      flagged   \n",
       "87  response_88      flagged   \n",
       "88  response_89      flagged   \n",
       "89  response_90      flagged   \n",
       "\n",
       "                                        response_text Unnamed: 3  Unnamed: 4  \\\n",
       "0               I try and avoid this sort of conflict        NaN         NaN   \n",
       "1   Had a friend open up to me about his mental ad...        NaN         NaN   \n",
       "2   I saved a girl from suicide once. She was goin...        NaN         NaN   \n",
       "3   i cant think of one really...i think i may hav...        NaN         NaN   \n",
       "4   Only really one friend who doesn't fit into th...                    NaN   \n",
       "..                                                ...        ...         ...   \n",
       "85        I feel like a burden to everyone around me.        NaN         NaN   \n",
       "86                Ive had thoughts of hurting myself        NaN         NaN   \n",
       "87         Struggling with constant anxiety and fear.        NaN         NaN   \n",
       "88         Life feels heavy, and Im not coping well.        NaN         NaN   \n",
       "89                   I dont want to be here anymore.        NaN         NaN   \n",
       "\n",
       "   Unnamed: 5  Unnamed: 6 Unnamed: 7  \n",
       "0         NaN         NaN        NaN  \n",
       "1         NaN         NaN        NaN  \n",
       "2         NaN         NaN        NaN  \n",
       "3         NaN         NaN        NaN  \n",
       "4         NaN         NaN        NaN  \n",
       "..        ...         ...        ...  \n",
       "85        NaN         NaN        NaN  \n",
       "86        NaN         NaN        NaN  \n",
       "87        NaN         NaN        NaN  \n",
       "88        NaN         NaN        NaN  \n",
       "89        NaN         NaN        NaN  \n",
       "\n",
       "[90 rows x 8 columns]"
      ]
     },
     "execution_count": 271,
     "metadata": {},
     "output_type": "execute_result"
    }
   ],
   "source": [
    "df=pd.read_csv(\"Sheet_1.csv\",encoding='ISO-8859-1')\n",
    "df"
   ]
  },
  {
   "cell_type": "code",
   "execution_count": 272,
   "id": "e93ec612",
   "metadata": {},
   "outputs": [
    {
     "data": {
      "text/plain": [
       "Index(['response_id', 'class', 'response_text', 'Unnamed: 3', 'Unnamed: 4',\n",
       "       'Unnamed: 5', 'Unnamed: 6', 'Unnamed: 7'],\n",
       "      dtype='object')"
      ]
     },
     "execution_count": 272,
     "metadata": {},
     "output_type": "execute_result"
    }
   ],
   "source": [
    "df.columns"
   ]
  },
  {
   "cell_type": "code",
   "execution_count": 273,
   "id": "65f58444",
   "metadata": {},
   "outputs": [],
   "source": [
    "df.drop([ 'Unnamed: 3', 'Unnamed: 4',\n",
    "       'Unnamed: 5', 'Unnamed: 6', 'Unnamed: 7',\"response_id\"],axis=1,inplace=True)\n"
   ]
  },
  {
   "cell_type": "code",
   "execution_count": 274,
   "id": "e4b72da7",
   "metadata": {},
   "outputs": [
    {
     "data": {
      "text/html": [
       "<div>\n",
       "<style scoped>\n",
       "    .dataframe tbody tr th:only-of-type {\n",
       "        vertical-align: middle;\n",
       "    }\n",
       "\n",
       "    .dataframe tbody tr th {\n",
       "        vertical-align: top;\n",
       "    }\n",
       "\n",
       "    .dataframe thead th {\n",
       "        text-align: right;\n",
       "    }\n",
       "</style>\n",
       "<table border=\"1\" class=\"dataframe\">\n",
       "  <thead>\n",
       "    <tr style=\"text-align: right;\">\n",
       "      <th></th>\n",
       "      <th>class</th>\n",
       "      <th>response_text</th>\n",
       "    </tr>\n",
       "  </thead>\n",
       "  <tbody>\n",
       "    <tr>\n",
       "      <th>0</th>\n",
       "      <td>not_flagged</td>\n",
       "      <td>I try and avoid this sort of conflict</td>\n",
       "    </tr>\n",
       "    <tr>\n",
       "      <th>1</th>\n",
       "      <td>flagged</td>\n",
       "      <td>Had a friend open up to me about his mental ad...</td>\n",
       "    </tr>\n",
       "    <tr>\n",
       "      <th>2</th>\n",
       "      <td>flagged</td>\n",
       "      <td>I saved a girl from suicide once. She was goin...</td>\n",
       "    </tr>\n",
       "    <tr>\n",
       "      <th>3</th>\n",
       "      <td>not_flagged</td>\n",
       "      <td>i cant think of one really...i think i may hav...</td>\n",
       "    </tr>\n",
       "    <tr>\n",
       "      <th>4</th>\n",
       "      <td>not_flagged</td>\n",
       "      <td>Only really one friend who doesn't fit into th...</td>\n",
       "    </tr>\n",
       "    <tr>\n",
       "      <th>...</th>\n",
       "      <td>...</td>\n",
       "      <td>...</td>\n",
       "    </tr>\n",
       "    <tr>\n",
       "      <th>85</th>\n",
       "      <td>flagged</td>\n",
       "      <td>I feel like a burden to everyone around me.</td>\n",
       "    </tr>\n",
       "    <tr>\n",
       "      <th>86</th>\n",
       "      <td>flagged</td>\n",
       "      <td>Ive had thoughts of hurting myself</td>\n",
       "    </tr>\n",
       "    <tr>\n",
       "      <th>87</th>\n",
       "      <td>flagged</td>\n",
       "      <td>Struggling with constant anxiety and fear.</td>\n",
       "    </tr>\n",
       "    <tr>\n",
       "      <th>88</th>\n",
       "      <td>flagged</td>\n",
       "      <td>Life feels heavy, and Im not coping well.</td>\n",
       "    </tr>\n",
       "    <tr>\n",
       "      <th>89</th>\n",
       "      <td>flagged</td>\n",
       "      <td>I dont want to be here anymore.</td>\n",
       "    </tr>\n",
       "  </tbody>\n",
       "</table>\n",
       "<p>90 rows × 2 columns</p>\n",
       "</div>"
      ],
      "text/plain": [
       "          class                                      response_text\n",
       "0   not_flagged              I try and avoid this sort of conflict\n",
       "1       flagged  Had a friend open up to me about his mental ad...\n",
       "2       flagged  I saved a girl from suicide once. She was goin...\n",
       "3   not_flagged  i cant think of one really...i think i may hav...\n",
       "4   not_flagged  Only really one friend who doesn't fit into th...\n",
       "..          ...                                                ...\n",
       "85      flagged        I feel like a burden to everyone around me.\n",
       "86      flagged                Ive had thoughts of hurting myself\n",
       "87      flagged         Struggling with constant anxiety and fear.\n",
       "88      flagged         Life feels heavy, and Im not coping well.\n",
       "89      flagged                   I dont want to be here anymore.\n",
       "\n",
       "[90 rows x 2 columns]"
      ]
     },
     "execution_count": 274,
     "metadata": {},
     "output_type": "execute_result"
    }
   ],
   "source": [
    "df"
   ]
  },
  {
   "cell_type": "code",
   "execution_count": 275,
   "id": "ad53d597",
   "metadata": {},
   "outputs": [
    {
     "data": {
      "text/plain": [
       "class            0\n",
       "response_text    0\n",
       "dtype: int64"
      ]
     },
     "execution_count": 275,
     "metadata": {},
     "output_type": "execute_result"
    }
   ],
   "source": [
    "df.isna().sum()"
   ]
  },
  {
   "cell_type": "code",
   "execution_count": 276,
   "id": "d9d75dbc",
   "metadata": {},
   "outputs": [
    {
     "data": {
      "text/html": [
       "<div>\n",
       "<style scoped>\n",
       "    .dataframe tbody tr th:only-of-type {\n",
       "        vertical-align: middle;\n",
       "    }\n",
       "\n",
       "    .dataframe tbody tr th {\n",
       "        vertical-align: top;\n",
       "    }\n",
       "\n",
       "    .dataframe thead th {\n",
       "        text-align: right;\n",
       "    }\n",
       "</style>\n",
       "<table border=\"1\" class=\"dataframe\">\n",
       "  <thead>\n",
       "    <tr style=\"text-align: right;\">\n",
       "      <th></th>\n",
       "      <th>class</th>\n",
       "      <th>response_text</th>\n",
       "    </tr>\n",
       "  </thead>\n",
       "  <tbody>\n",
       "    <tr>\n",
       "      <th>0</th>\n",
       "      <td>not_flagged</td>\n",
       "      <td>I try and avoid this sort of conflict</td>\n",
       "    </tr>\n",
       "    <tr>\n",
       "      <th>1</th>\n",
       "      <td>flagged</td>\n",
       "      <td>Had a friend open up to me about his mental ad...</td>\n",
       "    </tr>\n",
       "    <tr>\n",
       "      <th>2</th>\n",
       "      <td>flagged</td>\n",
       "      <td>I saved a girl from suicide once. She was goin...</td>\n",
       "    </tr>\n",
       "    <tr>\n",
       "      <th>3</th>\n",
       "      <td>not_flagged</td>\n",
       "      <td>i cant think of one really...i think i may hav...</td>\n",
       "    </tr>\n",
       "    <tr>\n",
       "      <th>4</th>\n",
       "      <td>not_flagged</td>\n",
       "      <td>Only really one friend who doesn't fit into th...</td>\n",
       "    </tr>\n",
       "    <tr>\n",
       "      <th>...</th>\n",
       "      <td>...</td>\n",
       "      <td>...</td>\n",
       "    </tr>\n",
       "    <tr>\n",
       "      <th>85</th>\n",
       "      <td>flagged</td>\n",
       "      <td>I feel like a burden to everyone around me.</td>\n",
       "    </tr>\n",
       "    <tr>\n",
       "      <th>86</th>\n",
       "      <td>flagged</td>\n",
       "      <td>Ive had thoughts of hurting myself</td>\n",
       "    </tr>\n",
       "    <tr>\n",
       "      <th>87</th>\n",
       "      <td>flagged</td>\n",
       "      <td>Struggling with constant anxiety and fear.</td>\n",
       "    </tr>\n",
       "    <tr>\n",
       "      <th>88</th>\n",
       "      <td>flagged</td>\n",
       "      <td>Life feels heavy, and Im not coping well.</td>\n",
       "    </tr>\n",
       "    <tr>\n",
       "      <th>89</th>\n",
       "      <td>flagged</td>\n",
       "      <td>I dont want to be here anymore.</td>\n",
       "    </tr>\n",
       "  </tbody>\n",
       "</table>\n",
       "<p>90 rows × 2 columns</p>\n",
       "</div>"
      ],
      "text/plain": [
       "          class                                      response_text\n",
       "0   not_flagged              I try and avoid this sort of conflict\n",
       "1       flagged  Had a friend open up to me about his mental ad...\n",
       "2       flagged  I saved a girl from suicide once. She was goin...\n",
       "3   not_flagged  i cant think of one really...i think i may hav...\n",
       "4   not_flagged  Only really one friend who doesn't fit into th...\n",
       "..          ...                                                ...\n",
       "85      flagged        I feel like a burden to everyone around me.\n",
       "86      flagged                Ive had thoughts of hurting myself\n",
       "87      flagged         Struggling with constant anxiety and fear.\n",
       "88      flagged         Life feels heavy, and Im not coping well.\n",
       "89      flagged                   I dont want to be here anymore.\n",
       "\n",
       "[90 rows x 2 columns]"
      ]
     },
     "execution_count": 276,
     "metadata": {},
     "output_type": "execute_result"
    }
   ],
   "source": [
    "df"
   ]
  },
  {
   "cell_type": "code",
   "execution_count": 277,
   "id": "faba22bd",
   "metadata": {},
   "outputs": [
    {
     "data": {
      "image/png": "[encoded data removed]",
      "text/plain": [
       "<Figure size 800x500 with 1 Axes>"
      ]
     },
     "metadata": {},
     "output_type": "display_data"
    }
   ],
   "source": [
    "#plot the distribution of theclass labels\n",
    "plt.figure(figsize=(8,5))\n",
    "sns.countplot(x='class',data=df,palette='Set1')\n",
    "plt.title('Distribution of Labels')\n",
    "plt.xlabel('class')\n",
    "plt.ylabel('Count')\n",
    "plt.show()"
   ]
  },
  {
   "cell_type": "code",
   "execution_count": 278,
   "id": "d717747c",
   "metadata": {},
   "outputs": [
    {
     "data": {
      "text/html": [
       "<div>\n",
       "<style scoped>\n",
       "    .dataframe tbody tr th:only-of-type {\n",
       "        vertical-align: middle;\n",
       "    }\n",
       "\n",
       "    .dataframe tbody tr th {\n",
       "        vertical-align: top;\n",
       "    }\n",
       "\n",
       "    .dataframe thead th {\n",
       "        text-align: right;\n",
       "    }\n",
       "</style>\n",
       "<table border=\"1\" class=\"dataframe\">\n",
       "  <thead>\n",
       "    <tr style=\"text-align: right;\">\n",
       "      <th></th>\n",
       "      <th>class</th>\n",
       "      <th>response_text</th>\n",
       "    </tr>\n",
       "  </thead>\n",
       "  <tbody>\n",
       "    <tr>\n",
       "      <th>0</th>\n",
       "      <td>0</td>\n",
       "      <td>I try and avoid this sort of conflict</td>\n",
       "    </tr>\n",
       "    <tr>\n",
       "      <th>1</th>\n",
       "      <td>1</td>\n",
       "      <td>Had a friend open up to me about his mental ad...</td>\n",
       "    </tr>\n",
       "    <tr>\n",
       "      <th>2</th>\n",
       "      <td>1</td>\n",
       "      <td>I saved a girl from suicide once. She was goin...</td>\n",
       "    </tr>\n",
       "    <tr>\n",
       "      <th>3</th>\n",
       "      <td>0</td>\n",
       "      <td>i cant think of one really...i think i may hav...</td>\n",
       "    </tr>\n",
       "    <tr>\n",
       "      <th>4</th>\n",
       "      <td>0</td>\n",
       "      <td>Only really one friend who doesn't fit into th...</td>\n",
       "    </tr>\n",
       "    <tr>\n",
       "      <th>...</th>\n",
       "      <td>...</td>\n",
       "      <td>...</td>\n",
       "    </tr>\n",
       "    <tr>\n",
       "      <th>85</th>\n",
       "      <td>1</td>\n",
       "      <td>I feel like a burden to everyone around me.</td>\n",
       "    </tr>\n",
       "    <tr>\n",
       "      <th>86</th>\n",
       "      <td>1</td>\n",
       "      <td>Ive had thoughts of hurting myself</td>\n",
       "    </tr>\n",
       "    <tr>\n",
       "      <th>87</th>\n",
       "      <td>1</td>\n",
       "      <td>Struggling with constant anxiety and fear.</td>\n",
       "    </tr>\n",
       "    <tr>\n",
       "      <th>88</th>\n",
       "      <td>1</td>\n",
       "      <td>Life feels heavy, and Im not coping well.</td>\n",
       "    </tr>\n",
       "    <tr>\n",
       "      <th>89</th>\n",
       "      <td>1</td>\n",
       "      <td>I dont want to be here anymore.</td>\n",
       "    </tr>\n",
       "  </tbody>\n",
       "</table>\n",
       "<p>90 rows × 2 columns</p>\n",
       "</div>"
      ],
      "text/plain": [
       "    class                                      response_text\n",
       "0       0              I try and avoid this sort of conflict\n",
       "1       1  Had a friend open up to me about his mental ad...\n",
       "2       1  I saved a girl from suicide once. She was goin...\n",
       "3       0  i cant think of one really...i think i may hav...\n",
       "4       0  Only really one friend who doesn't fit into th...\n",
       "..    ...                                                ...\n",
       "85      1        I feel like a burden to everyone around me.\n",
       "86      1                Ive had thoughts of hurting myself\n",
       "87      1         Struggling with constant anxiety and fear.\n",
       "88      1         Life feels heavy, and Im not coping well.\n",
       "89      1                   I dont want to be here anymore.\n",
       "\n",
       "[90 rows x 2 columns]"
      ]
     },
     "execution_count": 278,
     "metadata": {},
     "output_type": "execute_result"
    }
   ],
   "source": [
    "df['class']=df['class'].map({'not_flagged':0,'flagged':1})\n",
    "df"
   ]
  },
  {
   "cell_type": "code",
   "execution_count": 279,
   "id": "587a97f1",
   "metadata": {},
   "outputs": [
    {
     "data": {
      "text/plain": [
       "0                 I try and avoid this sort of conflict\n",
       "1     Had a friend open up to me about his mental ad...\n",
       "2     I saved a girl from suicide once. She was goin...\n",
       "3     i cant think of one really...i think i may hav...\n",
       "4     Only really one friend who doesn't fit into th...\n",
       "                            ...                        \n",
       "85          I feel like a burden to everyone around me.\n",
       "86                  Ive had thoughts of hurting myself\n",
       "87           Struggling with constant anxiety and fear.\n",
       "88           Life feels heavy, and Im not coping well.\n",
       "89                     I dont want to be here anymore.\n",
       "Name: response_text, Length: 90, dtype: object"
      ]
     },
     "execution_count": 279,
     "metadata": {},
     "output_type": "execute_result"
    }
   ],
   "source": [
    "response=df.response_text\n",
    "response\n"
   ]
  },
  {
   "cell_type": "code",
   "execution_count": 280,
   "id": "5376940b",
   "metadata": {},
   "outputs": [
    {
     "data": {
      "text/plain": [
       "class             int64\n",
       "response_text    object\n",
       "dtype: object"
      ]
     },
     "execution_count": 280,
     "metadata": {},
     "output_type": "execute_result"
    }
   ],
   "source": [
    "df.dtypes"
   ]
  },
  {
   "cell_type": "code",
   "execution_count": 281,
   "id": "665dcef8",
   "metadata": {},
   "outputs": [
    {
     "data": {
      "text/plain": [
       "0                 I try and avoid this sort of conflict\n",
       "1     Had a friend open up to me about his mental ad...\n",
       "2     I saved a girl from suicide once . She was goi...\n",
       "3     i cant think of one really ... i think i may h...\n",
       "4     Only really one friend who doesn't fit into th...\n",
       "                            ...                        \n",
       "85         I feel like a burden to everyone around me .\n",
       "86                I  ve had thoughts of hurting myself\n",
       "87          Struggling with constant anxiety and fear .\n",
       "88       Life feels heavy , and I  m not coping well .\n",
       "89                  I don  t want to be here anymore .\n",
       "Name: response_text, Length: 90, dtype: object"
      ]
     },
     "execution_count": 281,
     "metadata": {},
     "output_type": "execute_result"
    }
   ],
   "source": [
    "from nltk.tokenize import TweetTokenizer\n",
    "tk = TweetTokenizer()\n",
    "# Use the pandas Series directly for apply\n",
    "response=response.apply(lambda x: ' '.join(tk.tokenize(x)))\n",
    "response"
   ]
  },
  {
   "cell_type": "code",
   "execution_count": 282,
   "id": "849f7119",
   "metadata": {},
   "outputs": [
    {
     "data": {
      "text/plain": [
       "0                 I try and avoid this sort of conflict\n",
       "1     Had a friend open up to me about his mental ad...\n",
       "2     I saved a girl from suicide once   She was goi...\n",
       "3     i cant think of one really     i think i may h...\n",
       "4     Only really one friend who doesn t fit into th...\n",
       "                            ...                        \n",
       "85         I feel like a burden to everyone around me  \n",
       "86                I   ve had thoughts of hurting myself\n",
       "87          Struggling with constant anxiety and fear  \n",
       "88       Life feels heavy   and I   m not coping well  \n",
       "89                  I don   t want to be here anymore  \n",
       "Name: response_text, Length: 90, dtype: object"
      ]
     },
     "execution_count": 282,
     "metadata": {},
     "output_type": "execute_result"
    }
   ],
   "source": [
    "response=response.str.replace('[^a-zA-Z0-9]', ' ',regex=True)\n",
    "response"
   ]
  },
  {
   "cell_type": "code",
   "execution_count": 283,
   "id": "88488676",
   "metadata": {},
   "outputs": [
    {
     "data": {
      "text/plain": [
       "0                      try and avoid this sort conflict\n",
       "1     Had friend open about his mental addiction wee...\n",
       "2     saved girl from suicide once She was going swa...\n",
       "3       cant think one really think may have indirectly\n",
       "4     Only really one friend who doesn fit into the ...\n",
       "                            ...                        \n",
       "85                     feel like burden everyone around\n",
       "86                          had thoughts hurting myself\n",
       "87            Struggling with constant anxiety and fear\n",
       "88                 Life feels heavy and not coping well\n",
       "89                                don want here anymore\n",
       "Name: response_text, Length: 90, dtype: object"
      ]
     },
     "execution_count": 283,
     "metadata": {},
     "output_type": "execute_result"
    }
   ],
   "source": [
    "#Minimum length of 3 characters\n",
    "response =response.apply(lambda x: ' '.join([w for w in tk.tokenize(x) if len(w) >=3]))\n",
    "response"
   ]
  },
  {
   "cell_type": "code",
   "execution_count": 284,
   "id": "c8626119",
   "metadata": {},
   "outputs": [
    {
     "data": {
      "text/plain": [
       "0                      tri and avoid this sort conflict\n",
       "1     had friend open about his mental addict weed a...\n",
       "2     save girl from suicid onc she was go swallow b...\n",
       "3         cant think one realli think may have indirect\n",
       "4     onli realli one friend who doesn fit into the ...\n",
       "                            ...                        \n",
       "85                      feel like burden everyon around\n",
       "86                              had thought hurt myself\n",
       "87               struggl with constant anxieti and fear\n",
       "88                    life feel heavi and not cope well\n",
       "89                                 don want here anymor\n",
       "Name: response_text, Length: 90, dtype: object"
      ]
     },
     "execution_count": 284,
     "metadata": {},
     "output_type": "execute_result"
    }
   ],
   "source": [
    "#Stemming\n",
    "from nltk.stem import SnowballStemmer\n",
    "sp=SnowballStemmer('english')\n",
    "response=response.apply(lambda x:[sp.stem(i.lower()) for i in tk.tokenize(x)]).apply(lambda x: ' '.join(x))\n",
    "response"
   ]
  },
  {
   "cell_type": "code",
   "execution_count": 285,
   "id": "b65fb182",
   "metadata": {},
   "outputs": [
    {
     "data": {
      "text/plain": [
       "0                               tri avoid sort conflict\n",
       "1     friend open mental addict weed take life make ...\n",
       "2     save girl suicid onc go swallow bunch pill tal...\n",
       "3              cant think one realli think may indirect\n",
       "4     onli realli one friend fit ani abov categori t...\n",
       "                            ...                        \n",
       "85                      feel like burden everyon around\n",
       "86                                         thought hurt\n",
       "87                        struggl constant anxieti fear\n",
       "88                            life feel heavi cope well\n",
       "89                                          want anymor\n",
       "Name: response_text, Length: 90, dtype: object"
      ]
     },
     "execution_count": 285,
     "metadata": {},
     "output_type": "execute_result"
    }
   ],
   "source": [
    "#Remove stop words\n",
    "from nltk.corpus import stopwords\n",
    "sw = set(stopwords.words('english'))\n",
    "response= response.apply(lambda x: [i for i in tk.tokenize(x) if i not in sw]).apply(lambda x: ' '.join(x))\n",
    "\n",
    "response"
   ]
  },
  {
   "cell_type": "code",
   "execution_count": 286,
   "id": "d9dbe7b7",
   "metadata": {},
   "outputs": [
    {
     "data": {
      "text/plain": [
       "<90x1462 sparse matrix of type '<class 'numpy.float64'>'\n",
       "\twith 2047 stored elements in Compressed Sparse Row format>"
      ]
     },
     "execution_count": 286,
     "metadata": {},
     "output_type": "execute_result"
    }
   ],
   "source": [
    "#Vectorization : Convert text to numbers\n",
    "from sklearn.feature_extraction.text import TfidfVectorizer\n",
    "vec = TfidfVectorizer(ngram_range=(1,2))\n",
    "data=vec.fit_transform(response)\n",
    "data"
   ]
  },
  {
   "cell_type": "code",
   "execution_count": 287,
   "id": "54838dac",
   "metadata": {},
   "outputs": [
    {
     "name": "stdout",
     "output_type": "stream",
     "text": [
      "  (0, 1171)\t0.39545479012694823\n",
      "  (0, 108)\t0.39545479012694823\n",
      "  (0, 1346)\t0.39545479012694823\n",
      "  (0, 245)\t0.39545479012694823\n",
      "  (0, 1170)\t0.39545479012694823\n",
      "  (0, 107)\t0.39545479012694823\n",
      "  (0, 1344)\t0.2483808643875535\n",
      "  (1, 811)\t0.26816215337372346\n",
      "  (1, 745)\t0.26816215337372346\n",
      "  (1, 1245)\t0.26816215337372346\n",
      "  (1, 1417)\t0.26816215337372346\n",
      "  (1, 18)\t0.26816215337372346\n",
      "  (1, 833)\t0.26816215337372346\n",
      "  (1, 921)\t0.26816215337372346\n",
      "  (1, 476)\t0.26816215337372346\n",
      "  (1, 294)\t0.17857807132002484\n",
      "  (1, 809)\t0.207011504036528\n",
      "  (1, 742)\t0.1909986251396208\n",
      "  (1, 1244)\t0.26816215337372346\n",
      "  (1, 1416)\t0.26816215337372346\n",
      "  (1, 13)\t0.2295803892566721\n",
      "  (1, 832)\t0.24559326815357935\n",
      "  (1, 916)\t0.2171598354370762\n",
      "  (1, 447)\t0.09738905068818902\n",
      "  (2, 802)\t0.2131884045424925\n",
      "  :\t:\n",
      "  (85, 752)\t0.2768987161285298\n",
      "  (85, 414)\t0.23886613890066033\n",
      "  (85, 97)\t0.30708687098975596\n",
      "  (86, 1307)\t0.6235753337295198\n",
      "  (86, 1306)\t0.5338585853648292\n",
      "  (86, 650)\t0.5710944002495397\n",
      "  (87, 80)\t0.4034528449588844\n",
      "  (87, 247)\t0.4034528449588844\n",
      "  (87, 1198)\t0.4034528449588844\n",
      "  (87, 413)\t0.4034528449588844\n",
      "  (87, 246)\t0.4034528449588844\n",
      "  (87, 1197)\t0.29854189355661204\n",
      "  (87, 77)\t0.3114510350994916\n",
      "  (88, 254)\t0.36918018293371413\n",
      "  (88, 583)\t0.36918018293371413\n",
      "  (88, 422)\t0.36918018293371413\n",
      "  (88, 744)\t0.36918018293371413\n",
      "  (88, 582)\t0.36918018293371413\n",
      "  (88, 1422)\t0.27318124597148263\n",
      "  (88, 252)\t0.3381094853376558\n",
      "  (88, 414)\t0.24584932738810822\n",
      "  (88, 742)\t0.26294876619245733\n",
      "  (89, 1403)\t0.6621932873756335\n",
      "  (89, 85)\t0.5669203903914877\n",
      "  (89, 1402)\t0.4900013480726505\n"
     ]
    }
   ],
   "source": [
    "print(data)"
   ]
  },
  {
   "cell_type": "code",
   "execution_count": 288,
   "id": "691eb8b0",
   "metadata": {},
   "outputs": [
    {
     "data": {
      "text/plain": [
       "array([0, 1, 1, 0, 0, 0, 1, 1, 0, 1, 0, 1, 0, 0, 0, 1, 0, 0, 0, 0, 0, 1,\n",
       "       1, 0, 0, 1, 1, 0, 1, 0, 0, 0, 0, 0, 0, 0, 1, 0, 1, 0, 1, 0, 0, 0,\n",
       "       0, 0, 0, 0, 1, 0, 0, 1, 0, 0, 0, 0, 0, 1, 0, 1, 0, 1, 0, 0, 1, 0,\n",
       "       0, 0, 0, 0, 0, 0, 1, 0, 1, 0, 1, 0, 1, 0, 1, 1, 1, 1, 1, 1, 1, 1,\n",
       "       1, 1], dtype=int64)"
      ]
     },
     "execution_count": 288,
     "metadata": {},
     "output_type": "execute_result"
    }
   ],
   "source": [
    "y=df['class'].values\n",
    "y"
   ]
  },
  {
   "cell_type": "code",
   "execution_count": 289,
   "id": "ff74e3e7",
   "metadata": {},
   "outputs": [],
   "source": [
    "from imblearn.over_sampling import SMOTE\n",
    "\n",
    "# Apply SMOTE to the vectorized data\n",
    "smote = SMOTE(random_state=42)\n",
    "X_balanced, y_balanced = smote.fit_resample(data, y)\n",
    "\n",
    "# Now use X_balanced and y_balanced for train/test split\n",
    "from sklearn.model_selection import train_test_split\n",
    "X_train, X_test, y_train, y_test = train_test_split(\n",
    "    X_balanced, y_balanced, test_size=0.3, random_state=42, stratify=y_balanced\n",
    ")"
   ]
  },
  {
   "cell_type": "code",
   "execution_count": 290,
   "id": "c5410060",
   "metadata": {},
   "outputs": [],
   "source": [
    "#Model Building\n",
    "from sklearn.neighbors import KNeighborsClassifier\n",
    "from sklearn.naive_bayes import BernoulliNB\n",
    "from sklearn.svm import SVC\n",
    "from sklearn.metrics import confusion_matrix, accuracy_score,classification_report\n",
    "knn = KNeighborsClassifier(n_neighbors=7)\n",
    "nav=BernoulliNB()\n",
    "sup=SVC()\n",
    "lst=[knn,nav,sup]\n"
   ]
  },
  {
   "cell_type": "code",
   "execution_count": 291,
   "id": "456b59d3",
   "metadata": {},
   "outputs": [
    {
     "name": "stdout",
     "output_type": "stream",
     "text": [
      "KNeighborsClassifier\n",
      "Accuracy: 0.48484848484848486\n",
      "Confusion Matrix:\n",
      " [[ 0 17]\n",
      " [ 0 16]]\n",
      "Classification Report:\n",
      "               precision    recall  f1-score   support\n",
      "\n",
      "           0       0.00      0.00      0.00        17\n",
      "           1       0.48      1.00      0.65        16\n",
      "\n",
      "    accuracy                           0.48        33\n",
      "   macro avg       0.24      0.50      0.33        33\n",
      "weighted avg       0.24      0.48      0.32        33\n",
      "\n",
      "\n",
      "\n",
      "BernoulliNB\n",
      "Accuracy: 0.696969696969697\n",
      "Confusion Matrix:\n",
      " [[17  0]\n",
      " [10  6]]\n",
      "Classification Report:\n",
      "               precision    recall  f1-score   support\n",
      "\n",
      "           0       0.63      1.00      0.77        17\n",
      "           1       1.00      0.38      0.55        16\n",
      "\n",
      "    accuracy                           0.70        33\n",
      "   macro avg       0.81      0.69      0.66        33\n",
      "weighted avg       0.81      0.70      0.66        33\n",
      "\n",
      "\n",
      "\n",
      "SVC\n",
      "Accuracy: 0.7272727272727273\n",
      "Confusion Matrix:\n",
      " [[17  0]\n",
      " [ 9  7]]\n",
      "Classification Report:\n",
      "               precision    recall  f1-score   support\n",
      "\n",
      "           0       0.65      1.00      0.79        17\n",
      "           1       1.00      0.44      0.61        16\n",
      "\n",
      "    accuracy                           0.73        33\n",
      "   macro avg       0.83      0.72      0.70        33\n",
      "weighted avg       0.82      0.73      0.70        33\n",
      "\n",
      "\n",
      "\n"
     ]
    }
   ],
   "source": [
    "for i in lst:\n",
    "    i.fit(X_train,y_train)\n",
    "    y_pred=i.predict(X_test)\n",
    "    print(i.__class__.__name__)\n",
    "    print('Accuracy:',accuracy_score(y_test,y_pred))\n",
    "    print('Confusion Matrix:\\n',confusion_matrix(y_test,y_pred))\n",
    "    print('Classification Report:\\n',classification_report(y_test,y_pred))\n",
    "    print('\\n')"
   ]
  },
  {
   "cell_type": "code",
   "execution_count": 292,
   "id": "eef7e47c",
   "metadata": {},
   "outputs": [],
   "source": [
    "from sklearn.tree import DecisionTreeClassifier\n",
    "from sklearn.ensemble import RandomForestClassifier\n",
    "tree=DecisionTreeClassifier(criterion='entropy',random_state=42)\n",
    "forest=RandomForestClassifier(n_estimators=100,random_state=42)\n",
    "lst1=[tree,forest]"
   ]
  },
  {
   "cell_type": "code",
   "execution_count": 293,
   "id": "f28c7493",
   "metadata": {},
   "outputs": [
    {
     "name": "stdout",
     "output_type": "stream",
     "text": [
      "DecisionTreeClassifier\n",
      "Accuracy: 0.7272727272727273\n",
      "Confusion Matrix:\n",
      " [[16  1]\n",
      " [ 8  8]]\n",
      "Classification Report:\n",
      "               precision    recall  f1-score   support\n",
      "\n",
      "           0       0.67      0.94      0.78        17\n",
      "           1       0.89      0.50      0.64        16\n",
      "\n",
      "    accuracy                           0.73        33\n",
      "   macro avg       0.78      0.72      0.71        33\n",
      "weighted avg       0.77      0.73      0.71        33\n",
      "\n",
      "\n",
      "\n",
      "RandomForestClassifier\n",
      "Accuracy: 0.7575757575757576\n",
      "Confusion Matrix:\n",
      " [[17  0]\n",
      " [ 8  8]]\n",
      "Classification Report:\n",
      "               precision    recall  f1-score   support\n",
      "\n",
      "           0       0.68      1.00      0.81        17\n",
      "           1       1.00      0.50      0.67        16\n",
      "\n",
      "    accuracy                           0.76        33\n",
      "   macro avg       0.84      0.75      0.74        33\n",
      "weighted avg       0.84      0.76      0.74        33\n",
      "\n",
      "\n",
      "\n"
     ]
    }
   ],
   "source": [
    "for i in lst1:\n",
    "    i.fit(X_train,y_train)\n",
    "    y_pred=i.predict(X_test)\n",
    "    print(i.__class__.__name__)\n",
    "    print('Accuracy:',accuracy_score(y_test,y_pred))\n",
    "    print('Confusion Matrix:\\n',confusion_matrix(y_test,y_pred))\n",
    "    print('Classification Report:\\n',classification_report(y_test,y_pred))\n",
    "    print('\\n')"
   ]
  },
  {
   "cell_type": "code",
   "execution_count": 295,
   "id": "b6a58189",
   "metadata": {},
   "outputs": [
    {
     "data": {
      "text/plain": [
       "['DecisionTreeClassifier_model.joblib']"
      ]
     },
     "execution_count": 295,
     "metadata": {},
     "output_type": "execute_result"
    }
   ],
   "source": [
    "import joblib\n",
    "joblib.dump(vec, 'tfidf_vectorizer.joblib')\n",
    "joblib.dump(tree, 'DecisionTreeClassifier_model.joblib')"
   ]
  }
 ],
 "metadata": {
  "kernelspec": {
   "display_name": "Python 3",
   "language": "python",
   "name": "python3"
  },
  "language_info": {
   "codemirror_mode": {
    "name": "ipython",
    "version": 3
   },
   "file_extension": ".py",
   "mimetype": "text/x-python",
   "name": "python",
   "nbconvert_exporter": "python",
   "pygments_lexer": "ipython3",
   "version": "3.8.10"
  }
 },
 "nbformat": 4,
 "nbformat_minor": 5
}
